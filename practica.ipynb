{
 "cells": [
  {
   "cell_type": "code",
   "execution_count": 9,
   "metadata": {},
   "outputs": [
    {
     "name": "stdout",
     "output_type": "stream",
     "text": [
      "(45215, 17)\n",
      "(45207, 17)\n"
     ]
    }
   ],
   "source": [
    "#importar librerias \n",
    "import numpy as np\n",
    "import pandas as pd\n",
    "import matplotlib.pyplot as plt\n",
    "import seaborn as sns\n",
    "\n",
    "#leer archivo csv\n",
    "df=pd.read_csv('/home/kali/datascience/data/dataset_banco.csv')\n",
    "\n",
    "#ver datos\n",
    "#print(df.head())\n",
    "#print(df.info())\n",
    "#print(df.describe())\n",
    "\n",
    "#ver variables categoricas y numericas \n",
    "ind_cat=df.select_dtypes(include=['object']).columns\n",
    "ind_num=df.select_dtypes(include=['int','float']).columns\n",
    "\n",
    "#datos faltantes\n",
    "print(df.shape)\n",
    "df.dropna(inplace=True) \n",
    "print(df.shape)\n",
    "\n",
    "#conteo en los niveles de las diferentes columnas categoricas y numericas\n",
    "for i in ind_cat:\n",
    "    print(f'subindices de {ind_cat} :{df.nunique\n",
    "    }')\n",
    "\n",
    "#filas repetidas\n",
    "\n",
    "#generar graficas individuales pues las variables numericas\n",
    "#estan en rangos diferentes\n",
    "#eliminar filas con 'age'>100\n",
    "#eliminar filas con 'diration'<0\n",
    "#eliminar filas con 'previous'>100\n",
    "#graficar los subniveles de cada variables categorica \n",
    "#representar en minusculas solo si la columna es categorica\n",
    "#y generamos las graficas nuevamente\n",
    "#job: unificar admin. y administrative\n",
    "#marital: unificar div, y divorced \n",
    "#educacion: unificar sec. y secondaty, unk y unknown\n",
    "#contact: unificar telephone y phone\n",
    "#poutcome: unificar unk y unknown\n"
   ]
  },
  {
   "cell_type": "code",
   "execution_count": null,
   "metadata": {},
   "outputs": [],
   "source": []
  }
 ],
 "metadata": {
  "kernelspec": {
   "display_name": "cleaning",
   "language": "python",
   "name": "python3"
  },
  "language_info": {
   "codemirror_mode": {
    "name": "ipython",
    "version": 3
   },
   "file_extension": ".py",
   "mimetype": "text/x-python",
   "name": "python",
   "nbconvert_exporter": "python",
   "pygments_lexer": "ipython3",
   "version": "3.12.1"
  }
 },
 "nbformat": 4,
 "nbformat_minor": 2
}
